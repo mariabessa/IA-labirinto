{
  "nbformat": 4,
  "nbformat_minor": 0,
  "metadata": {
    "colab": {
      "provenance": [],
      "collapsed_sections": [
        "y9X0LOxK9s_v"
      ],
      "include_colab_link": true
    },
    "kernelspec": {
      "name": "python3",
      "display_name": "Python 3"
    }
  },
  "cells": [
    {
      "cell_type": "markdown",
      "metadata": {
        "id": "view-in-github",
        "colab_type": "text"
      },
      "source": [
        "<a href=\"https://colab.research.google.com/github/mariabessa/IA-labirinto/blob/main/Busca-em-espaco-estados/Trabalho.ipynb\" target=\"_parent\"><img src=\"https://colab.research.google.com/assets/colab-badge.svg\" alt=\"Open In Colab\"/></a>"
      ]
    },
    {
      "cell_type": "code",
      "metadata": {
        "id": "wnDw4dKQkqec"
      },
      "source": [
        "import numpy as np\n",
        "import matplotlib.pyplot as plt\n",
        "from IPython.display import HTML\n",
        "from matplotlib import animation, rc"
      ],
      "execution_count": 9,
      "outputs": []
    },
    {
      "cell_type": "markdown",
      "metadata": {
        "id": "HwwCgQe_3rnb"
      },
      "source": [
        "# Classe Labirinto\n"
      ]
    },
    {
      "cell_type": "code",
      "metadata": {
        "id": "GxpF83nYk55d"
      },
      "source": [
        "class Labirinto:\n",
        "\n",
        "  def __init__(self,dim=10):\n",
        "\n",
        "    # Inicializando o labirinto. Nele, vamos considerar que todas as celulas sao paredes\n",
        "    self.labirintoPlot    =  np.zeros((dim,dim,3), dtype=np.int64)\n",
        "    self.labirintoArestas =  np.zeros((dim,dim), dtype=np.int64)\n",
        "    self.dim = dim\n",
        "\n",
        "    # Selecionar uma celula parede do labirinto como ponto inicial. Com a selecao abaixo,\n",
        "    # o labirinto sempre tera seu inicio no canto esquerdo do grafico\n",
        "    posicaoInicial = np.random.randint(0, (dim-1))\n",
        "\n",
        "\n",
        "    fronteira = []\n",
        "    fronteira.append((posicaoInicial,0))\n",
        "    dx = [ 0, 1, 0, -1] # Movimentacao de x\n",
        "    dy = [-1, 0, 1,  0] # movimentacao de y\n",
        "\n",
        "    while fronteira != []:\n",
        "      # Transformar a celula (parede) do labirinto em uma celula valida\n",
        "      (vx, vy) = fronteira[-1] # Selecionando o ultimo elemento da lista\n",
        "      self.labirintoArestas[vx,vy] = 1\n",
        "\n",
        "      # verificar se a celula (parede) possui somente um vizinho que nao seja parede\n",
        "      # caso sim, podemos incluir ela como uma passagem.\n",
        "      vizinhosNaoVisitados=[]\n",
        "\n",
        "      # Consideramos que a celula tem vizinhos acima, abaixo a esquerda e a direita.\n",
        "      # Para isso, utilizamos as listas dx e dy para determinar essas posicoes\n",
        "      for i in range(4):\n",
        "        nx = vx + dx[i]\n",
        "        ny = vy + dy[i]\n",
        "\n",
        "        if nx >=0 and nx < dim and ny >=0 and ny < dim:\n",
        "          if self.labirintoArestas[nx, ny] == 0:\n",
        "\n",
        "            confereVizinho=0\n",
        "            for j in range(4):\n",
        "              ex = nx + dx[j]\n",
        "              ey = ny + dy[j]\n",
        "\n",
        "              if ex >=0 and ex < dim and ey >=0 and ey < dim:\n",
        "                if self.labirintoArestas[ex, ey] == 1:\n",
        "                  confereVizinho +=1\n",
        "\n",
        "            if confereVizinho == 1:\n",
        "              vizinhosNaoVisitados.append(i)\n",
        "\n",
        "      if len(vizinhosNaoVisitados) > 0:\n",
        "        irPara= np.random.choice(vizinhosNaoVisitados)\n",
        "        vx += dx[irPara]\n",
        "        vy += dy[irPara]\n",
        "        fronteira.append((vx,vy))\n",
        "      else:\n",
        "        fronteira.pop()\n",
        "\n",
        "    # Ajustar a posicao final (considerando um ponto do lado direito do labirinto)\n",
        "    encontrou= False\n",
        "    while not encontrou:\n",
        "      posicaoFinal = np.random.randint(0,(dim-1))\n",
        "      if self.labirintoArestas[posicaoFinal, dim-1] ==1:\n",
        "        encontrou=True\n",
        "\n",
        "\n",
        "    # Colorir Labirinto\n",
        "    self.labirintoPlot[:,:, 0] += 255* self.labirintoArestas\n",
        "    self.labirintoPlot[:,:, 1] += 255* self.labirintoArestas\n",
        "    self.labirintoPlot[:,:, 2] += 255* self.labirintoArestas\n",
        "\n",
        "    # Colorir posicao inicial e final\n",
        "    self.labirintoPlot[posicaoInicial,0,1] = 0\n",
        "    self.labirintoPlot[posicaoInicial,0,2] = 0\n",
        "\n",
        "    self.labirintoPlot[posicaoFinal,dim-1, 0] = 0\n",
        "    self.labirintoPlot[posicaoFinal,dim-1, 1] = 0\n",
        "\n",
        "    # Armazenar no objeto as posicoes inicial e final do labirinto\n",
        "    self.posicaoInicial = (posicaoInicial,0)\n",
        "    self.posicaoFinal = (posicaoFinal,dim-1)\n",
        "\n",
        "  def getLabirintoPlot(self, posicoes=None, cores=(255,0,0)):\n",
        "    if posicoes==None:\n",
        "      return self.labirintoPlot\n",
        "\n",
        "    resposta = self.labirintoPlot.copy()\n",
        "    for t in posicoes:\n",
        "      for camada in range(3):\n",
        "        resposta[t[0],t[1],camada] = cores[camada]\n",
        "\n",
        "    return resposta\n",
        "\n",
        "\n",
        "  def getPosicaoInicio(self):\n",
        "    return self.posicaoInicial\n",
        "\n",
        "\n",
        "  def getDestino(self):\n",
        "    return self.posicaoFinal\n",
        "\n",
        "\n",
        "  def getPosicaoInicio(self):\n",
        "    return self.posicaoInicial\n",
        "\n",
        "\n",
        "  def getDestino(self):\n",
        "    return self.posicaoFinal\n",
        "\n",
        "  def getVizinhos(self, atual):\n",
        "    (vx, vy) = atual\n",
        "    dx = [ 0, 1, 0, -1] # Movimentacao de x\n",
        "    dy = [-1, 0, 1,  0] # movimentacao de y\n",
        "    vizinhos = []\n",
        "    for i in range(4):\n",
        "        nx = vx + dx[i]\n",
        "        ny = vy + dy[i]\n",
        "\n",
        "        if nx >=0 and nx < self.dim and ny >=0 and ny < self.dim:\n",
        "            if self.labirintoArestas[nx][ny] == 1:\n",
        "                vizinhos.append((nx, ny))\n",
        "\n",
        "    return vizinhos\n",
        "\n",
        "\n",
        "def getPontosVizinhos(pontoAtual):\n",
        "    (vx, vy) = pontoAtual\n",
        "    dx = [ 0, 1, 0, -1] # Movimentacao de x\n",
        "    dy = [-1, 0, 1,  0] # movimentacao de y\n",
        "    vizinhos = []\n",
        "    for i in range(4):\n",
        "        nx = vx + dx[i]\n",
        "        ny = vy + dy[i]\n",
        "\n",
        "        if nx >=0 and ny >=0:\n",
        "            vizinhos.append((nx, ny))\n",
        "    return vizinhos\n"
      ],
      "execution_count": 12,
      "outputs": []
    },
    {
      "cell_type": "markdown",
      "metadata": {
        "id": "uyXVySnT_xDo"
      },
      "source": [
        "# Funções auxiliares. Serão utilizadas para exibição dos nós visitados no labirinto"
      ]
    },
    {
      "cell_type": "code",
      "metadata": {
        "id": "uUY_GfL9ACZF"
      },
      "source": [
        "class NoCaminho:\n",
        "  def __init__(self, no, pai):\n",
        "     self.no = no\n",
        "     self.pai = pai\n",
        "\n",
        "def distancia(no, destino):\n",
        "    return np.linalg.norm(np.array(no) - np.array(destino),1)\n",
        "\n",
        "\n",
        "def selecionaCaminho(caminhos, destino):\n",
        "  origem = caminhos[0]\n",
        "  listaAberta = []\n",
        "  listaFechada = []\n",
        "\n",
        "  custo = []\n",
        "  for caminho in caminhos:\n",
        "    custo.append(distancia(caminho, destino))\n",
        "\n",
        "  listaAberta.append(NoCaminho(origem, None))\n",
        "\n",
        "  while(listaAberta):\n",
        "    noAtual = listaAberta[0]\n",
        "    indiceAtual = 0\n",
        "\n",
        "\n",
        "    for i in range(len(listaAberta)):\n",
        "      indiceListaAberta = caminhos.index(listaAberta[i].no)\n",
        "      indiceNoAtualEmCaminhos = caminhos.index(noAtual.no)\n",
        "\n",
        "      if(custo[indiceListaAberta] < custo[indiceNoAtualEmCaminhos]):\n",
        "        noAtual = listaAberta[i]\n",
        "        indiceAtual = i\n",
        "\n",
        "\n",
        "    listaAberta.pop(indiceAtual)\n",
        "\n",
        "    listaFechada.append(noAtual)\n",
        "\n",
        "    if(noAtual.no == destino):\n",
        "      caminho = []\n",
        "      atual = noAtual\n",
        "\n",
        "      while(atual != None):\n",
        "        caminho.append(atual.no)\n",
        "        atual = atual.pai\n",
        "\n",
        "      caminho.reverse()\n",
        "      return caminho\n",
        "\n",
        "    for no in getPontosVizinhos(noAtual.no):\n",
        "      if no in caminhos:\n",
        "        noEmLista = 1\n",
        "\n",
        "        for x in listaAberta:\n",
        "          if(x.no == no):\n",
        "            noEmLista = 0\n",
        "\n",
        "        for x in listaFechada:\n",
        "          if(x.no == no):\n",
        "            noEmLista = 0\n",
        "\n",
        "        if noEmLista:\n",
        "          listaAberta.append(NoCaminho(no, noAtual))\n",
        "\n",
        "  return []"
      ],
      "execution_count": 3,
      "outputs": []
    },
    {
      "cell_type": "markdown",
      "metadata": {
        "id": "0xs2wkgX3wyG"
      },
      "source": [
        "# Definição dos algoritmos de busca\n",
        "\n"
      ]
    },
    {
      "cell_type": "markdown",
      "metadata": {
        "id": "HaS1bxl45NZr"
      },
      "source": [
        "## Busca em largura"
      ]
    },
    {
      "cell_type": "code",
      "metadata": {
        "id": "Z2vfIzIo5Ld5"
      },
      "source": [
        "def buscaEmLargura(labirinto):\n",
        "\n",
        "  fronteira = []\n",
        "  caminhos = []\n",
        "  celulasVisitadas = []\n",
        "  statusLabirinto = []\n",
        "\n",
        "  fig, ax = plt.subplots()\n",
        "\n",
        "  fronteira.append(labirinto.getPosicaoInicio())\n",
        "\n",
        "  ims = []\n",
        "  ims.append([ax.imshow(labirinto.getLabirintoPlot())])\n",
        "\n",
        "  while fronteira != []:\n",
        "\n",
        "    statusLabirinto.append(labirinto.getLabirintoPlot(posicoes=fronteira, cores=(0,255,127)))\n",
        "\n",
        "    celula = fronteira.pop(0) # Selecionando o primeiro elemento da lista\n",
        "    caminhos.append(celula)\n",
        "    celulasVisitadas.append(celula)\n",
        "\n",
        "    im = ax.imshow(statusLabirinto[statusLabirinto.__len__() - 1])\n",
        "\n",
        "    ims.append([im])\n",
        "\n",
        "    if celula == labirinto.getDestino():\n",
        "        print(\"Objetivo\", celula, \"encontrado\")\n",
        "        caminhoEncontrado = selecionaCaminho(caminhos, labirinto.getDestino())## Guia para implementar\n",
        "        statusLabirinto.append(labirinto.getLabirintoPlot(posicoes=caminhoEncontrado, cores=(0,255,127)))\n",
        "\n",
        "        im = ax.imshow(statusLabirinto[statusLabirinto.__len__() - 1])\n",
        "        ims.append([im])\n",
        "\n",
        "        ani = animation.ArtistAnimation(fig, ims, interval=150, blit=True, repeat = False)\n",
        "        plt.show()\n",
        "\n",
        "        return statusLabirinto\n",
        "\n",
        "    else:\n",
        "      for vizinho in labirinto.getVizinhos(celula):\n",
        "        if vizinho not in celulasVisitadas:\n",
        "          fronteira.append(vizinho)\n",
        "\n",
        "  print(\"Objetivo nao existente no grafo\")"
      ],
      "execution_count": 6,
      "outputs": []
    },
    {
      "cell_type": "markdown",
      "metadata": {
        "id": "jQs1kb_Mw2lA"
      },
      "source": [
        "## Busca em profundidade"
      ]
    },
    {
      "cell_type": "code",
      "metadata": {
        "id": "gAqwttokw126"
      },
      "source": [
        "def buscaEmProfundidade(labirinto):\n",
        "\n",
        "  fronteira = [] # lista vazia\n",
        "  caminhos = []\n",
        "  celulasVisitadas = []\n",
        "  statusLabirinto = []\n",
        "\n",
        "  fig, ax = plt.subplots()\n",
        "  ims = []\n",
        "  ims.append([ax.imshow(labirinto.getLabirintoPlot())])\n",
        "\n",
        "  fronteira.append(labirinto.getPosicaoInicio())\n",
        "\n",
        "  while fronteira != []:\n",
        "\n",
        "    statusLabirinto.append(labirinto.getLabirintoPlot(posicoes=fronteira, cores=(0,255,127)))\n",
        "\n",
        "    celula = fronteira.pop() # Selecionando o último elemento da lista\n",
        "    celulasVisitadas.append(celula)\n",
        "    caminhos.append(celula)\n",
        "\n",
        "    im = ax.imshow(statusLabirinto[len(statusLabirinto) - 1])\n",
        "\n",
        "    ims.append([im])\n",
        "    if celula == labirinto.getDestino():\n",
        "      print(\"Objetivo\", celula, \"encontrado\")\n",
        "      caminhoEncontrado = selecionaCaminho(caminhos, labirinto.getDestino())## Guia para implementar\n",
        "\n",
        "\n",
        "      statusLabirinto.append(labirinto.getLabirintoPlot(posicoes=caminhoEncontrado, cores=(0,255,127)))\n",
        "      im = ax.imshow(statusLabirinto[len(statusLabirinto) - 1])\n",
        "      ims.append([im])\n",
        "\n",
        "      ani = animation.ArtistAnimation(fig, ims, interval=300, blit=True, repeat = True)\n",
        "      plt.show()\n",
        "\n",
        "      return statusLabirinto\n",
        "\n",
        "    else:\n",
        "      vizinhos = labirinto.getVizinhos(celula)\n",
        "      for vizinho in vizinhos:\n",
        "\n",
        "        if vizinho not in celulasVisitadas:\n",
        "          fronteira.append(vizinho)\n"
      ],
      "execution_count": 15,
      "outputs": []
    },
    {
      "cell_type": "markdown",
      "source": [
        "##Best first"
      ],
      "metadata": {
        "id": "Bs0qUWEDorrS"
      }
    },
    {
      "cell_type": "code",
      "source": [],
      "metadata": {
        "id": "Ljhj7T2Dot4g"
      },
      "execution_count": null,
      "outputs": []
    },
    {
      "cell_type": "markdown",
      "metadata": {
        "id": "SahWIZ_m8YSj"
      },
      "source": [
        "## A*"
      ]
    },
    {
      "cell_type": "code",
      "metadata": {
        "id": "SV1djBMF8X6c"
      },
      "source": [],
      "execution_count": null,
      "outputs": []
    },
    {
      "cell_type": "markdown",
      "metadata": {
        "id": "OBgWvq0v31bV"
      },
      "source": [
        "# Execução dos algoritmos de busca"
      ]
    },
    {
      "cell_type": "markdown",
      "metadata": {
        "id": "WLNy5CWR8BJT"
      },
      "source": [
        "## Criação do objeto labirinto (Escolha do tamanho e exibição do labirinto)"
      ]
    },
    {
      "cell_type": "code",
      "metadata": {
        "id": "EIbf3kIWoC8C",
        "colab": {
          "base_uri": "https://localhost:8080/",
          "height": 847
        },
        "outputId": "3d1b665e-1f9d-4a07-b1ca-e877c75b6a1e"
      },
      "source": [
        "# Podemos construir labirintos com diversas dimensoes (a ciratividade eh sua!)\n",
        "labirinto = Labirinto(10) # Voces podem alterar a dimensao do labirinto (testei ate o tamanho 30). Caso aumente muito, vai ficar dificil de visualizar o resultado\n",
        "\n",
        "fig = plt.figure(figsize=(10,10))\n",
        "plt.imshow(labirinto.getLabirintoPlot())"
      ],
      "execution_count": 10,
      "outputs": [
        {
          "output_type": "execute_result",
          "data": {
            "text/plain": [
              "<matplotlib.image.AxesImage at 0x7bad6c859e40>"
            ]
          },
          "metadata": {},
          "execution_count": 10
        },
        {
          "output_type": "display_data",
          "data": {
            "text/plain": [
              "<Figure size 1000x1000 with 1 Axes>"
            ],
            "image/png": "[encoded data removed]"
          },
          "metadata": {}
        }
      ]
    },
    {
      "cell_type": "markdown",
      "metadata": {
        "id": "OnpHmv5z8o47"
      },
      "source": [
        "## Busca em Largura"
      ]
    },
    {
      "cell_type": "code",
      "metadata": {
        "id": "-3RJEF618oMI",
        "colab": {
          "base_uri": "https://localhost:8080/",
          "height": 447
        },
        "outputId": "ad99c24b-387a-4e55-f6be-acf1f93d86f6"
      },
      "source": [
        "snapshots = buscaEmLargura(labirinto)"
      ],
      "execution_count": 16,
      "outputs": [
        {
          "output_type": "stream",
          "name": "stdout",
          "text": [
            "Objetivo (5, 9) encontrado\n"
          ]
        },
        {
          "output_type": "display_data",
          "data": {
            "text/plain": [
              "<Figure size 640x480 with 1 Axes>"
            ],
            "image/png": "[encoded data removed]"
          },
          "metadata": {}
        }
      ]
    },
    {
      "cell_type": "markdown",
      "metadata": {
        "id": "VrSofqMw6as7"
      },
      "source": [
        "## Busca em profundidade"
      ]
    },
    {
      "cell_type": "code",
      "metadata": {
        "id": "28xiW1u3wQ4Z"
      },
      "source": [],
      "execution_count": 15,
      "outputs": []
    },
    {
      "cell_type": "markdown",
      "source": [
        "\n",
        "\n",
        "\n",
        "\n",
        "\n",
        "\n",
        "\n",
        "\n",
        "\n",
        "\n",
        "##Best first\n",
        "\n",
        "\n",
        "\n",
        "\n",
        "\n",
        "\n",
        "  ddkkjsasnassnsnsskjskfneednks"
      ],
      "metadata": {
        "id": "FzMDSdhinN51"
      }
    },
    {
      "cell_type": "code",
      "source": [],
      "metadata": {
        "id": "Ei12gRBso1t1"
      },
      "execution_count": null,
      "outputs": []
    },
    {
      "cell_type": "markdown",
      "metadata": {
        "id": "fGINyO676esz"
      },
      "source": [
        "## A*\n"
      ]
    },
    {
      "cell_type": "code",
      "metadata": {
        "id": "DCISv7J41qRL"
      },
      "source": [],
      "execution_count": null,
      "outputs": []
    },
    {
      "cell_type": "markdown",
      "metadata": {
        "id": "y9X0LOxK9s_v"
      },
      "source": [
        "# Animando o labirinto\n",
        "Podemos utilizar os labirintos retornados pelo algoritmo de busca para poder visualizar cada uma das iterações do algoritmo. No momento da busca, estão registrados tanto as fronteiras do algoritmo de busca quanto o resultado final encontrado."
      ]
    },
    {
      "cell_type": "code",
      "metadata": {
        "id": "WI0gUPxEALbS",
        "colab": {
          "base_uri": "https://localhost:8080/",
          "height": 228
        },
        "outputId": "2224249c-4750-49b7-c186-422b1d80d694"
      },
      "source": [
        "# First set up the figure, the axis, and the plot element we want to animate\n",
        "fig = plt.figure(figsize=(10,10))\n",
        "\n",
        "# initialization function: plot the background of each frame\n",
        "def init():\n",
        "  a = labirinto.getLabirintoPlot()\n",
        "  im = plt.imshow(a, interpolation='none', aspect='auto', vmin=0, vmax=1)\n",
        "  return [im]\n",
        "\n",
        "\n",
        "def animate_func(i):\n",
        "  im = plt.imshow(snapshots[i], interpolation='none', aspect='auto', vmin=0, vmax=1)\n",
        "  #im.set_array(snapshots[i])\n",
        "  return [im]\n",
        "\n",
        "anim = animation.FuncAnimation(fig,\n",
        "                               animate_func,\n",
        "                               init_func=init,\n",
        "                               frames=len(snapshots), # Numero de frames para animacao\n",
        "                               interval=100, # Intervalo entre cada frame (em milisegundos)\n",
        "                               blit=True)\n",
        "# Note: below is the part which makes it work on Colab\n",
        "rc('animation', html='jshtml')\n",
        "anim"
      ],
      "execution_count": 5,
      "outputs": [
        {
          "output_type": "error",
          "ename": "NameError",
          "evalue": "name 'snapshots' is not defined",
          "traceback": [
            "\u001b[0;31m---------------------------------------------------------------------------\u001b[0m",
            "\u001b[0;31mNameError\u001b[0m                                 Traceback (most recent call last)",
            "\u001b[0;32m<ipython-input-5-54ce34a05d82>\u001b[0m in \u001b[0;36m<cell line: 16>\u001b[0;34m()\u001b[0m\n\u001b[1;32m     17\u001b[0m                                \u001b[0manimate_func\u001b[0m\u001b[0;34m,\u001b[0m\u001b[0;34m\u001b[0m\u001b[0;34m\u001b[0m\u001b[0m\n\u001b[1;32m     18\u001b[0m                                \u001b[0minit_func\u001b[0m\u001b[0;34m=\u001b[0m\u001b[0minit\u001b[0m\u001b[0;34m,\u001b[0m\u001b[0;34m\u001b[0m\u001b[0;34m\u001b[0m\u001b[0m\n\u001b[0;32m---> 19\u001b[0;31m                                \u001b[0mframes\u001b[0m\u001b[0;34m=\u001b[0m\u001b[0mlen\u001b[0m\u001b[0;34m(\u001b[0m\u001b[0msnapshots\u001b[0m\u001b[0;34m)\u001b[0m\u001b[0;34m,\u001b[0m \u001b[0;31m# Numero de frames para animacao\u001b[0m\u001b[0;34m\u001b[0m\u001b[0;34m\u001b[0m\u001b[0m\n\u001b[0m\u001b[1;32m     20\u001b[0m                                \u001b[0minterval\u001b[0m\u001b[0;34m=\u001b[0m\u001b[0;36m100\u001b[0m\u001b[0;34m,\u001b[0m \u001b[0;31m# Intervalo entre cada frame (em milisegundos)\u001b[0m\u001b[0;34m\u001b[0m\u001b[0;34m\u001b[0m\u001b[0m\n\u001b[1;32m     21\u001b[0m                                blit=True)\n",
            "\u001b[0;31mNameError\u001b[0m: name 'snapshots' is not defined"
          ]
        },
        {
          "output_type": "display_data",
          "data": {
            "text/plain": [
              "<Figure size 1000x1000 with 0 Axes>"
            ]
          },
          "metadata": {}
        }
      ]
    }
  ]
}